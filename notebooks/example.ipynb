{
 "cells": [
  {
   "cell_type": "markdown",
   "id": "e88dec98",
   "metadata": {},
   "source": [
    "# Verifying conjectures on Nested Hilbert Schemes\n",
    "\n",
    "This notebook exemplifies a computational framework for exploring conjectures related to virtual invariants of nested Hilbert schemes of points on the affine plane. the code verifies a conjectural relationship between a generating function of these invariants and coefficient of modified Macdonald polynomials.\n",
    "\n",
    "For full mathematical context, please refer to the following papers:\n",
    "\n",
    "- [Defects, nested instantons and comet shaped quivers](https://arxiv.org/abs/1907.02771)\n",
    "- [Flags of sheaves, quivers and symmetric polynomials](https://arxiv.org/abs/1911.12787)\n",
    "\n",
    "The central conjecture we are testing is:\n",
    "\n",
    "$$\n",
    "\\sum_{\\lambda^{(1)}\\subset\\cdots\\subset\\lambda^{(k-1)}\\subset\\lambda}\\operatorname{pExp}\\left(\\operatorname WT(\\lambda^\\bullet)\\right)=(1-qt)^k\\cdot\\langle\\widetilde H_\\lambda,h_\\mu\\rangle\n",
    "$$\n",
    "\n",
    "whenever the sizes of successive nestings only jump by one."
   ]
  },
  {
   "cell_type": "code",
   "execution_count": null,
   "id": "fc480e8e",
   "metadata": {},
   "outputs": [],
   "source": [
    "# Load the SageMath module containing our core functions.\n",
    "# Note: You might need to adjust the path depending on where you run the notebook.\n",
    "load('../src/hilbert_invariants/conjectures.py')"
   ]
  },
  {
   "cell_type": "markdown",
   "id": "2a0eb4c6",
   "metadata": {},
   "source": [
    "## Example 1: An Equality check\n",
    "\n",
    "Let's test the conjecture for a case where equality is known to hold. We'll use $\\lambda=(2^11^1)$, and a single nested partition of size 1.\n",
    "\n",
    "> ***Note:*** the nested Hilbert scheme $\\operatorname{Hilb}^{[2,1]}(\\mathbb A^2)$ is smooth."
   ]
  },
  {
   "cell_type": "code",
   "execution_count": null,
   "id": "0653901b",
   "metadata": {},
   "outputs": [],
   "source": [
    "big_partition = Partition([2, 1])\n",
    "nested_sizes = [1]\n",
    "\n",
    "A_side = calculate_A_side(big_partition, nested_sizes)\n",
    "B_side = calculate_B_side(big_partition, nested_sizes)\n",
    "\n",
    "print(\"Side A (from Nested Hilbert Schemes):\")\n",
    "print(A_side)\n",
    "print(\"\\nSide B (from Macdonald Polynomials):\")\n",
    "print(B_side)\n",
    "\n",
    "assert A_side == B_side\n",
    "print(\"\\nConclusion: The two sides are equal, as expected! ✅\")"
   ]
  },
  {
   "cell_type": "markdown",
   "id": "3dea46fc",
   "metadata": {},
   "source": [
    "## Example 2: The Positivity Conjecture\n",
    "\n",
    "In many cases, the two sides of the conjecture are not actually equal. A weaker form of the conjecture is that their difference is a polynomial in $(q,t)$ with non-negative coefficients."
   ]
  },
  {
   "cell_type": "code",
   "execution_count": null,
   "id": "f99b2232",
   "metadata": {},
   "outputs": [],
   "source": [
    "big_partition = Partition([2])\n",
    "nested_sizes = [1]\n",
    "\n",
    "A = calculate_A_side(big_partition, nested_sizes)\n",
    "B = calculate_B_side(big_partition, nested_sizes)\n",
    "\n",
    "diff = B - A\n",
    "\n",
    "print(f\"A = {A}\")\n",
    "print(f\"B = {B}\")\n",
    "print(f\"Difference (B - A) = {diff}\")\n",
    "\n",
    "assert diff.is_polynomial() and all(c >= 0 for c in diff.coefficients())\n",
    "print(\"\\nConclusion: The difference is a polynomial with non-negative coefficients. ✅\")"
   ]
  }
 ],
 "metadata": {
  "language_info": {
   "name": "python"
  }
 },
 "nbformat": 4,
 "nbformat_minor": 5
}
