{
 "cells": [
  {
   "cell_type": "markdown",
   "id": "e88dec98",
   "metadata": {},
   "source": [
    "# Verifying conjectures on Nested Hilbert Schemes\n",
    "\n",
    "This notebook exemplifies a computational framework for exploring conjectures related to virtual invariants of nested Hilbert schemes of points on the affine plane. the code verifies a conjectural relationship between a generating function of these invariants and coefficient of modified Macdonald polynomials.\n",
    "\n",
    "For full mathematical context, please refer to the following papers:\n",
    "\n",
    "- [Defects, nested instantons and comet shaped quivers](https://arxiv.org/abs/1907.02771)\n",
    "- [Flags of sheaves, quivers and symmetric polynomials](https://arxiv.org/abs/1911.12787)"
   ]
  },
  {
   "cell_type": "code",
   "execution_count": 2,
   "id": "fc480e8e",
   "metadata": {},
   "outputs": [
    {
     "name": "stdout",
     "output_type": "stream",
     "text": [
      "✅ Verifier ready.\n"
     ]
    }
   ],
   "source": [
    "# Load the SageMath module containing our core functions.\n",
    "# Note: You might need to adjust the path depending on where you run the notebook.\n",
    "from nested_hilbert_invariants import NestedHilbConjectureCalculator\n",
    "from sage.all import Partition, Partitions\n",
    "\n",
    "verifier = NestedHilbConjectureCalculator()\n",
    "q, t = verifier.q, verifier.t\n",
    "print(\"✅ Verifier ready.\")"
   ]
  },
  {
   "cell_type": "markdown",
   "id": "2a0eb4c6",
   "metadata": {},
   "source": [
    "## Example 1: An Equality check\n",
    "\n",
    "Let's look for cases where equality is holds."
   ]
  },
  {
   "cell_type": "code",
   "execution_count": 3,
   "id": "0653901b",
   "metadata": {},
   "outputs": [],
   "source": [
    "def test_equality(big, sizes):\n",
    "    A = verifier.WT_sum(big, sizes)/(1-q*t)**len(sizes)\n",
    "    sizes = [0] + list(sizes) + [sum(big)]\n",
    "    p = Partition([sizes[i+1] - sizes[i] for i in range(len(sizes)-1)])\n",
    "    H = verifier.get_macdonald_monomial(big)\n",
    "    B = H[p]\n",
    "    return A == B\n",
    "\n",
    "def find_equalities(N):\n",
    "    for big in Partitions(N):\n",
    "        for p in Partitions(N):\n",
    "            sizes = [0]\n",
    "            for x in p:\n",
    "                sizes.append(sizes[-1]+x)\n",
    "            sizes = sizes[1:-1]\n",
    "            if test_equality(big, sizes):\n",
    "                print(big, sizes)\n",
    "                assert all(sizes[i] == i + N - len(sizes) for i in range(len(sizes)))\n",
    "            else:\n",
    "                assert not all(sizes[i] == i + N - len(sizes) for i in range(len(sizes)))"
   ]
  },
  {
   "cell_type": "markdown",
   "id": "9c1eb81b",
   "metadata": {},
   "source": [
    "Let's look for all case in which the conjecture holds up to `N_max`."
   ]
  },
  {
   "cell_type": "code",
   "execution_count": 4,
   "id": "b76cd9f5",
   "metadata": {},
   "outputs": [
    {
     "name": "stdout",
     "output_type": "stream",
     "text": [
      "n0:  0\n",
      "[] []\n",
      "\n",
      "n0:  1\n",
      "[1] []\n",
      "\n",
      "n0:  2\n",
      "[2] []\n",
      "[2] [1]\n",
      "[1, 1] []\n",
      "[1, 1] [1]\n",
      "\n",
      "n0:  3\n",
      "[3] []\n",
      "[3] [2]\n",
      "[3] [1, 2]\n",
      "[2, 1] []\n",
      "[2, 1] [2]\n",
      "[2, 1] [1, 2]\n",
      "[1, 1, 1] []\n",
      "[1, 1, 1] [2]\n",
      "[1, 1, 1] [1, 2]\n",
      "\n",
      "n0:  4\n",
      "[4] []\n",
      "[4] [3]\n",
      "[4] [2, 3]\n",
      "[4] [1, 2, 3]\n",
      "[3, 1] []\n",
      "[3, 1] [3]\n",
      "[3, 1] [2, 3]\n",
      "[3, 1] [1, 2, 3]\n",
      "[2, 2] []\n",
      "[2, 2] [3]\n",
      "[2, 2] [2, 3]\n",
      "[2, 2] [1, 2, 3]\n",
      "[2, 1, 1] []\n",
      "[2, 1, 1] [3]\n",
      "[2, 1, 1] [2, 3]\n",
      "[2, 1, 1] [1, 2, 3]\n",
      "[1, 1, 1, 1] []\n",
      "[1, 1, 1, 1] [3]\n",
      "[1, 1, 1, 1] [2, 3]\n",
      "[1, 1, 1, 1] [1, 2, 3]\n",
      "\n",
      "n0:  5\n",
      "[5] []\n",
      "[5] [4]\n",
      "[5] [3, 4]\n",
      "[5] [2, 3, 4]\n",
      "[5] [1, 2, 3, 4]\n",
      "[4, 1] []\n",
      "[4, 1] [4]\n",
      "[4, 1] [3, 4]\n",
      "[4, 1] [2, 3, 4]\n",
      "[4, 1] [1, 2, 3, 4]\n",
      "[3, 2] []\n",
      "[3, 2] [4]\n",
      "[3, 2] [3, 4]\n",
      "[3, 2] [2, 3, 4]\n",
      "[3, 2] [1, 2, 3, 4]\n",
      "[3, 1, 1] []\n",
      "[3, 1, 1] [4]\n",
      "[3, 1, 1] [3, 4]\n",
      "[3, 1, 1] [2, 3, 4]\n",
      "[3, 1, 1] [1, 2, 3, 4]\n",
      "[2, 2, 1] []\n",
      "[2, 2, 1] [4]\n",
      "[2, 2, 1] [3, 4]\n",
      "[2, 2, 1] [2, 3, 4]\n",
      "[2, 2, 1] [1, 2, 3, 4]\n",
      "[2, 1, 1, 1] []\n",
      "[2, 1, 1, 1] [4]\n",
      "[2, 1, 1, 1] [3, 4]\n",
      "[2, 1, 1, 1] [2, 3, 4]\n",
      "[2, 1, 1, 1] [1, 2, 3, 4]\n",
      "[1, 1, 1, 1, 1] []\n",
      "[1, 1, 1, 1, 1] [4]\n",
      "[1, 1, 1, 1, 1] [3, 4]\n",
      "[1, 1, 1, 1, 1] [2, 3, 4]\n",
      "[1, 1, 1, 1, 1] [1, 2, 3, 4]\n",
      "\n"
     ]
    }
   ],
   "source": [
    "N_max = 5\n",
    "\n",
    "for n in range(N_max + 1):\n",
    "    print('n0: ', n)\n",
    "    find_equalities(n)\n",
    "    print()"
   ]
  },
  {
   "cell_type": "markdown",
   "id": "3dea46fc",
   "metadata": {},
   "source": [
    "## Example 2: The Positivity Conjecture\n",
    "\n",
    "In many cases, the two sides of the conjecture are not actually equal. A weaker form of the conjecture is that their difference is a polynomial in $(q,t)$ with non-negative coefficients."
   ]
  },
  {
   "cell_type": "code",
   "execution_count": 9,
   "id": "f99b2232",
   "metadata": {},
   "outputs": [],
   "source": [
    "def compute_diff(big, sizes):\n",
    "    A = verifier.WT_sum(big, sizes)/(1-q*t)**len(sizes)\n",
    "    sizes = [0] + list(sizes) + [sum(big)]\n",
    "    p = Partition([sizes[i+1] - sizes[i] for i in range(len(sizes)-1)])\n",
    "    H = verifier.get_macdonald_monomial(big)\n",
    "    B = H[p]\n",
    "    return verifier.R(B - A)\n",
    "\n",
    "def test_pos(N):\n",
    "    for big in Partitions(N):\n",
    "        for p in Partitions(N):\n",
    "            sizes = [0]\n",
    "            for x in p:\n",
    "                sizes.append(sizes[-1] + x)\n",
    "            sizes = sizes[1:-1]\n",
    "            print(big, sizes)\n",
    "            diff = compute_diff(big, sizes)\n",
    "            assert all(x > 0 for x in diff.coefficients())"
   ]
  },
  {
   "cell_type": "markdown",
   "id": "e59082c5",
   "metadata": {},
   "source": [
    "Let's test the conjecture up to `N_max`."
   ]
  },
  {
   "cell_type": "code",
   "execution_count": 10,
   "id": "db071856",
   "metadata": {},
   "outputs": [
    {
     "name": "stdout",
     "output_type": "stream",
     "text": [
      "n0:  0\n",
      "[] []\n",
      "\n",
      "n0:  1\n",
      "[1] []\n",
      "\n",
      "n0:  2\n",
      "[2] []\n",
      "[2] [1]\n",
      "[1, 1] []\n",
      "[1, 1] [1]\n",
      "\n",
      "n0:  3\n",
      "[3] []\n",
      "[3] [2]\n",
      "[3] [1, 2]\n",
      "[2, 1] []\n",
      "[2, 1] [2]\n",
      "[2, 1] [1, 2]\n",
      "[1, 1, 1] []\n",
      "[1, 1, 1] [2]\n",
      "[1, 1, 1] [1, 2]\n",
      "\n"
     ]
    }
   ],
   "source": [
    "N_max = 3\n",
    "\n",
    "for n in range(N_max + 1):\n",
    "    print('n0: ', n)\n",
    "    test_pos(n)\n",
    "    print()"
   ]
  }
 ],
 "metadata": {
  "kernelspec": {
   "display_name": "SageMath (nested-hilbert-env)",
   "language": "python",
   "name": "nested-hilbert-env"
  },
  "language_info": {
   "codemirror_mode": {
    "name": "ipython",
    "version": 3
   },
   "file_extension": ".py",
   "mimetype": "text/x-python",
   "name": "python",
   "nbconvert_exporter": "python",
   "pygments_lexer": "ipython3",
   "version": "3.12.11"
  }
 },
 "nbformat": 4,
 "nbformat_minor": 5
}
